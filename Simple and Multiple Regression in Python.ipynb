{
 "cells": [
  {
   "cell_type": "markdown",
   "metadata": {},
   "source": [
    "# Ad Cost Regression in Python\n",
    "## By Nikita Saharia\n",
    "### APRD 6342-001"
   ]
  },
  {
   "cell_type": "code",
   "execution_count": 1,
   "metadata": {},
   "outputs": [
    {
     "name": "stdout",
     "output_type": "stream",
     "text": [
      "Campaign Name  :  0.005868705267202126\n",
      "Reach  :  0.0034987572838288466\n",
      "Frequency  :  4.386151133698412\n",
      "Impressions  :  -0.0012624487635549816\n",
      "Clicks  :  -0.16764657576565198\n",
      "Unique Clicks  :  0.31187032944967596\n",
      "Page Likes  :  23.293085362552393\n",
      "Page Engagement  :  -19.97630274873896\n",
      "Post Engagement  :  16.99221831284524\n",
      "Post Likes  :  2.382748432791739\n",
      "Post Comments  :  3.437533134225409\n",
      "Post Shares  :  4.563504095659522\n",
      "Photo Views  :  3.1982399699656883\n",
      "Website Clicks  :  3.410192680201928\n"
     ]
    }
   ],
   "source": [
    "# -*- coding: utf-8 -*-\n",
    "\"\"\"\n",
    "Spyder Editor\n",
    "This is a temporary script file.\n",
    "\n",
    "\"\"\"\n",
    "import pandas as pd\n",
    "from sklearn.linear_model import LinearRegression\n",
    "import numpy as np \n",
    "\n",
    "dataframe = pd.read_csv('travel.csv')\n",
    "\n",
    "\n",
    "dataframe_copy = dataframe.copy()\n",
    "campaign_names = dataframe_copy['Campaign Name'].values\n",
    "campaign_names_unique = np.unique(campaign_names)\n",
    "campaign_names_unique_cat_var = list(range(0, len(campaign_names_unique)))\n",
    "campaign_names_unique_dict = dict(zip(campaign_names_unique, campaign_names_unique_cat_var))\n",
    "\n",
    "#Repalce the campaign names with variables\n",
    "dataframe_copy['Campaign Name'] = dataframe_copy['Campaign Name'].map(campaign_names_unique_dict)\n",
    "\n",
    "#turn dataframe to values\n",
    "data_frame_np = dataframe_copy.values\n",
    "data_frame_np = np.delete(data_frame_np, [0, 1, 8, 17], 1)\n",
    "\n",
    "#Perform regression\n",
    "y = dataframe_copy['Amount Spent (USD)'].values\n",
    "reg = LinearRegression(normalize = False).fit(data_frame_np, y) #If data is to be normalized then set normalize = True\n",
    "np.set_printoptions(suppress = True)\n",
    "\n",
    "#Format output\n",
    "column_names = np.array(list(dataframe_copy))\n",
    "column_names = np.delete(column_names, [0, 1, 8, 17])\n",
    "coeffs_dict = dict(zip(column_names, reg.coef_))\n",
    "for i in range(0, len(column_names)):\n",
    " print(column_names[i],\" : \", reg.coef_[i] ) #print(reg.coef_, reg.intercept_)\n",
    "\n",
    "\n"
   ]
  },
  {
   "cell_type": "code",
   "execution_count": null,
   "metadata": {},
   "outputs": [],
   "source": []
  }
 ],
 "metadata": {
  "kernelspec": {
   "display_name": "Python 3",
   "language": "python",
   "name": "python3"
  },
  "language_info": {
   "codemirror_mode": {
    "name": "ipython",
    "version": 3
   },
   "file_extension": ".py",
   "mimetype": "text/x-python",
   "name": "python",
   "nbconvert_exporter": "python",
   "pygments_lexer": "ipython3",
   "version": "3.6.5"
  }
 },
 "nbformat": 4,
 "nbformat_minor": 2
}
